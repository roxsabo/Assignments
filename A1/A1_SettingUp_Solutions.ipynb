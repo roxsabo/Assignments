{
 "cells": [
  {
   "cell_type": "markdown",
   "metadata": {
    "nbgrader": {
     "grade": false,
     "grade_id": "header-1",
     "locked": true,
     "schema_version": 1,
     "solution": false
    }
   },
   "source": [
    "# COGS 108 - Assignment 1: Setting Up"
   ]
  },
  {
   "cell_type": "markdown",
   "metadata": {
    "nbgrader": {
     "grade": false,
     "grade_id": "filename_msg",
     "locked": true,
     "schema_version": 1,
     "solution": false
    }
   },
   "source": [
    "## IMPORTANT\n",
    "### Rename this file to 'A1_A########.ipynb' (filled in with your student ID before you submit it)"
   ]
  },
  {
   "cell_type": "markdown",
   "metadata": {
    "collapsed": true,
    "nbgrader": {
     "grade": false,
     "grade_id": "header-2",
     "locked": true,
     "schema_version": 1,
     "solution": false
    }
   },
   "source": [
    "### In the markdown cell below, write in your Student ID and Github username. "
   ]
  },
  {
   "cell_type": "markdown",
   "metadata": {
    "collapsed": true
   },
   "source": [
    "My Student ID number is: \n",
    "\n",
    "My Github username is: "
   ]
  },
  {
   "cell_type": "markdown",
   "metadata": {
    "collapsed": true,
    "nbgrader": {
     "grade": false,
     "grade_id": "part1-instr",
     "locked": true,
     "schema_version": 1,
     "solution": false
    }
   },
   "source": [
    "## Part 1\n",
    "\n",
    "Follow along on the instructions in the assignment description to do Part-1 on Github. "
   ]
  },
  {
   "cell_type": "code",
   "execution_count": 1,
   "metadata": {
    "collapsed": true,
    "nbgrader": {
     "grade": false,
     "grade_id": "check-version",
     "locked": true,
     "schema_version": 1,
     "solution": false
    }
   },
   "outputs": [],
   "source": [
    "# Run this cell to check your version of IPython. If the message prints out, stop and upgrade Jupyter.\n",
    "import IPython\n",
    "assert IPython.version_info[0] >= 3, \"Your version of IPython is too old, please update it.\""
   ]
  },
  {
   "cell_type": "markdown",
   "metadata": {
    "nbgrader": {
     "grade": false,
     "grade_id": "part2-instr",
     "locked": true,
     "schema_version": 1,
     "solution": false
    }
   },
   "source": [
    "## Part 2\n",
    "\n",
    "The Python portion of this assignment is just to test that the you have everything set up and that the submission and grading system all works. \n",
    "\n",
    "Whenever you see:\n",
    "\n",
    "YOUR CODE HERE <br>\n",
    "raise NotImplementedError()\n",
    "\n",
    "You need to replace this section with some code that answers the questions and meets the specified criteria. Make sure you remove the 'raise' line when you do this (or your notebook will raise this error and fail the tests.\n",
    "\n",
    "Note that in this notebook all the tests are public - that is, you can see that tests that will be used to evaluate your code, and so can check your answers. This will not always be the case - future assignments will also include hidden tests. "
   ]
  },
  {
   "cell_type": "code",
   "execution_count": 2,
   "metadata": {
    "collapsed": true,
    "nbgrader": {
     "grade": false,
     "grade_id": "add2",
     "locked": false,
     "schema_version": 1,
     "solution": true
    }
   },
   "outputs": [],
   "source": [
    "# Write a function that takes two inputs, adds them together, and returns the result. Call it 'add2'\n",
    "### BEGIN SOLUTION\n",
    "def add2(a, b):\n",
    "    return a + b\n",
    "### END SOLUTION"
   ]
  },
  {
   "cell_type": "code",
   "execution_count": 3,
   "metadata": {
    "collapsed": false,
    "nbgrader": {
     "grade": true,
     "grade_id": "add2-tests",
     "locked": true,
     "points": 2,
     "schema_version": 1,
     "solution": false
    }
   },
   "outputs": [],
   "source": [
    "# These are the test for the question above\n",
    "assert add2(1, 2) == 3\n",
    "assert add2(-1, 1) == 0"
   ]
  },
  {
   "cell_type": "code",
   "execution_count": 4,
   "metadata": {
    "collapsed": true,
    "nbgrader": {
     "grade": false,
     "grade_id": "imports",
     "locked": false,
     "schema_version": 1,
     "solution": true
    }
   },
   "outputs": [],
   "source": [
    "# Import the five core python data-science modules, with their typical abbreviations\n",
    "#  {numpy, scipy, pandas, matplotlib.pyplot, sklearn} as {np, sp, pd, plt, skl}\n",
    "### BEGIN SOLUTION\n",
    "import numpy as np\n",
    "import scipy as sp\n",
    "import pandas as pd\n",
    "import matplotlib.pyplot as plt\n",
    "import sklearn as skl\n",
    "### END SOLUTION"
   ]
  },
  {
   "cell_type": "code",
   "execution_count": 5,
   "metadata": {
    "collapsed": false,
    "nbgrader": {
     "grade": true,
     "grade_id": "autograder-tests",
     "locked": true,
     "points": 2,
     "schema_version": 1,
     "solution": false
    }
   },
   "outputs": [],
   "source": [
    "# These are the test for the question above\n",
    "assert(np)\n",
    "assert(sp)\n",
    "assert(pd)\n",
    "assert(plt)\n",
    "assert(skl)"
   ]
  }
 ],
 "metadata": {
  "anaconda-cloud": {},
  "celltoolbar": "Create Assignment",
  "kernelspec": {
   "display_name": "Python 3",
   "language": "python",
   "name": "python3"
  },
  "language_info": {
   "codemirror_mode": {
    "name": "ipython",
    "version": 3
   },
   "file_extension": ".py",
   "mimetype": "text/x-python",
   "name": "python",
   "nbconvert_exporter": "python",
   "pygments_lexer": "ipython3",
   "version": "3.6.0"
  }
 },
 "nbformat": 4,
 "nbformat_minor": 1
}
